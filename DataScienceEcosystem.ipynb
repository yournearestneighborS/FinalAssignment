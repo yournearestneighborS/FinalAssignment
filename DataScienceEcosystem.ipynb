{
  "nbformat": 4,
  "nbformat_minor": 0,
  "metadata": {
    "colab": {
      "provenance": []
    },
    "kernelspec": {
      "name": "python3",
      "display_name": "Python 3"
    },
    "language_info": {
      "name": "python"
    }
  },
  "cells": [
    {
      "cell_type": "markdown",
      "source": [
        "# Data Science Tools and Ecosystem"
      ],
      "metadata": {
        "id": "QcGL2wx4VKWk"
      }
    },
    {
      "cell_type": "markdown",
      "source": [
        "In this notebook, Data Science Tools and Ecosystems are summarized."
      ],
      "metadata": {
        "id": "yx-GXzFyWhX1"
      }
    },
    {
      "cell_type": "markdown",
      "source": [
        "**Objectives**\n",
        "\n",
        "* List popular languages used in Data Science\n",
        "* List popular libraries used in Data Science\n",
        "* How to evaluate arithmetic expressions in Python\n"
      ],
      "metadata": {
        "id": "4fU8HoPWgiIn"
      }
    },
    {
      "cell_type": "markdown",
      "source": [
        "Some of the popular languages that Data Scientists use are:\n",
        "\n",
        "\n",
        "1. Python\n",
        "2. R\n",
        "3. SQL"
      ],
      "metadata": {
        "id": "m2t0OcxgWzYO"
      }
    },
    {
      "cell_type": "markdown",
      "source": [
        "Some of the most popular libraries used by Data Scientists include:\n",
        "\n",
        "1. NumPy\n",
        "2. Matplotlib\n",
        "3. Pandas\n",
        "4. Caret"
      ],
      "metadata": {
        "id": "DTuLboA6XXmn"
      }
    },
    {
      "cell_type": "markdown",
      "source": [
        "| Data Science Tools |\n",
        "|:------------------:|\n",
        "| RStudio            |\n",
        "| Jupyter Notebooks  |\n",
        "| Visual Studio      |\n"
      ],
      "metadata": {
        "id": "2t4nZaMwX8dE"
      }
    },
    {
      "cell_type": "markdown",
      "source": [
        "### Enlisted below are a few examples of evaluating arithmetic expressions in Python"
      ],
      "metadata": {
        "id": "uqGEMl2Tbtz1"
      }
    },
    {
      "cell_type": "code",
      "source": [
        "# This is a simple arithmetic expression to multiply then add integers\n",
        "(3*4)+5"
      ],
      "metadata": {
        "colab": {
          "base_uri": "https://localhost:8080/"
        },
        "id": "RWSPOZ2zchLg",
        "outputId": "22f9c23f-2537-4397-b440-21d961659d7a"
      },
      "execution_count": 3,
      "outputs": [
        {
          "output_type": "execute_result",
          "data": {
            "text/plain": [
              "17"
            ]
          },
          "metadata": {},
          "execution_count": 3
        }
      ]
    },
    {
      "cell_type": "code",
      "source": [
        "# This will convert 200 minutes to hours by dividing by 60\n",
        "print(f'200 minutes translates to {200/60} hours')"
      ],
      "metadata": {
        "colab": {
          "base_uri": "https://localhost:8080/"
        },
        "id": "rc0P6rrFcnyj",
        "outputId": "d11a6565-3d37-4c90-f038-20e5d0a5598d"
      },
      "execution_count": 6,
      "outputs": [
        {
          "output_type": "stream",
          "name": "stdout",
          "text": [
            "200 minutes translates to 3.3333333333333335 hours\n"
          ]
        }
      ]
    },
    {
      "cell_type": "markdown",
      "source": [
        "## Author\n",
        "Oluwaseyi Folorunso"
      ],
      "metadata": {
        "id": "egP8YBg0fH4M"
      }
    }
  ]
}